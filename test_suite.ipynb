{
 "cells": [
  {
   "cell_type": "code",
   "execution_count": 1,
   "id": "35c5418f-a220-4406-b384-3b715dbed125",
   "metadata": {},
   "outputs": [
    {
     "ename": "ModuleNotFoundError",
     "evalue": "No module named 'horse_race_simulator'",
     "output_type": "error",
     "traceback": [
      "\u001b[1;31m---------------------------------------------------------------------------\u001b[0m",
      "\u001b[1;31mModuleNotFoundError\u001b[0m                       Traceback (most recent call last)",
      "Cell \u001b[1;32mIn[1], line 2\u001b[0m\n\u001b[0;32m      1\u001b[0m \u001b[38;5;28;01mimport\u001b[39;00m \u001b[38;5;21;01munittest\u001b[39;00m\n\u001b[1;32m----> 2\u001b[0m \u001b[38;5;28;01mfrom\u001b[39;00m \u001b[38;5;21;01mhorse_race_simulator_test\u001b[39;00m\u001b[38;5;21;01m.\u001b[39;00m\u001b[38;5;21;01mtest_race_details\u001b[39;00m \u001b[38;5;28;01mimport\u001b[39;00m TestRace\n\u001b[0;32m      3\u001b[0m \u001b[38;5;28;01mfrom\u001b[39;00m \u001b[38;5;21;01mhorse_race_simulator_test\u001b[39;00m\u001b[38;5;21;01m.\u001b[39;00m\u001b[38;5;21;01mtest_race_results\u001b[39;00m \u001b[38;5;28;01mimport\u001b[39;00m TestRaceResult\n\u001b[0;32m      5\u001b[0m \u001b[38;5;28;01mdef\u001b[39;00m \u001b[38;5;21mmy_suite\u001b[39m(): \u001b[38;5;66;03m# temporary name, combining test_race_details and test_race_results\u001b[39;00m\n",
      "File \u001b[1;32m~\\PROJECTS\\Data 533 - Horse Race Simulator\\Project Step 2\\v3\\horse_race_simulator_test\\test_race_details.py:6\u001b[0m\n\u001b[0;32m      4\u001b[0m \u001b[38;5;28;01mfrom\u001b[39;00m \u001b[38;5;21;01mdatetime\u001b[39;00m \u001b[38;5;28;01mimport\u001b[39;00m timedelta\n\u001b[0;32m      5\u001b[0m \u001b[38;5;28;01mfrom\u001b[39;00m \u001b[38;5;21;01mdatetime\u001b[39;00m \u001b[38;5;28;01mimport\u001b[39;00m datetime\n\u001b[1;32m----> 6\u001b[0m \u001b[38;5;28;01mfrom\u001b[39;00m \u001b[38;5;21;01mhorse_race_simulator\u001b[39;00m\u001b[38;5;21;01m.\u001b[39;00m\u001b[38;5;21;01mrace_data\u001b[39;00m\u001b[38;5;21;01m.\u001b[39;00m\u001b[38;5;21;01mrace_details\u001b[39;00m \u001b[38;5;28;01mimport\u001b[39;00m DelayedRace\n\u001b[0;32m      8\u001b[0m \u001b[38;5;28;01mclass\u001b[39;00m \u001b[38;5;21;01mTestRace\u001b[39;00m(unittest\u001b[38;5;241m.\u001b[39mTestCase):\n\u001b[0;32m     10\u001b[0m     \u001b[38;5;129m@classmethod\u001b[39m\n\u001b[0;32m     11\u001b[0m     \u001b[38;5;28;01mdef\u001b[39;00m \u001b[38;5;21msetUpClass\u001b[39m(\u001b[38;5;28mcls\u001b[39m):\n",
      "\u001b[1;31mModuleNotFoundError\u001b[0m: No module named 'horse_race_simulator'"
     ]
    }
   ],
   "source": [
    "import unittest\n",
    "from horse_race_simulator_test.test_race_details import TestRace\n",
    "from horse_race_simulator_test.test_race_results import TestRaceResult\n",
    "\n",
    "def my_suite(): # temporary name, combining test_race_details and test_race_results\n",
    "    suite = unittest.TestSuite()\n",
    "    result = unittest.TestResult()\n",
    "\n",
    "    #test_race_details\n",
    "    suite.addTest(TestRace('test_constructor'))\n",
    "    suite.addTest(TestRace('test_set_delayed_date'))\n",
    "    suite.addTest(TestRace('test_set_date'))\n",
    "    suite.addTest(TestRace('test_get_race_info'))\n",
    "\n",
    "    #test_race_results\n",
    "    suite.addTest(TestRaceResult('test_constructor'))\n",
    "    suite.addTest(TestRaceResult('test_get_horse_position'))\n",
    "    suite.addTest(TestRaceResult('test_display_options_exit'))\n",
    "    suite.addTest(TestRaceResult('test_get_horse_age'))\n",
    "    suite.addTest(TestRaceResult('test_get_horse_type'))\n",
    "    suite.addTest(TestRaceResult('test_get_horse_weight'))\n",
    "    suite.addTest(TestRaceResult('test_get_horse_jockey'))\n",
    "    \n",
    "    runner = unittest.TextTestRunner()\n",
    "    print(runner.run(suite))\n",
    "\n",
    "my_suite()"
   ]
  }
 ],
 "metadata": {
  "kernelspec": {
   "display_name": "Python 3 (ipykernel)",
   "language": "python",
   "name": "python3"
  },
  "language_info": {
   "codemirror_mode": {
    "name": "ipython",
    "version": 3
   },
   "file_extension": ".py",
   "mimetype": "text/x-python",
   "name": "python",
   "nbconvert_exporter": "python",
   "pygments_lexer": "ipython3",
   "version": "3.12.3"
  }
 },
 "nbformat": 4,
 "nbformat_minor": 5
}
