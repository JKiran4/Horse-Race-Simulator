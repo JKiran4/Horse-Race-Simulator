{
 "cells": [
  {
   "cell_type": "code",
   "execution_count": null,
   "id": "19121b08-af31-4a00-a1f4-256a639ff19d",
   "metadata": {},
   "outputs": [],
   "source": [
    "import unittest\n",
    "\n",
    "from horse_race_simulator_test import TestHorse\n",
    "from horse_race_simulator_test import TestUser\n",
    "\n",
    "def horse_suite(): # temporary name, please feel free to change if you have a preference\n",
    "    suite = unittest.TestSuite()\n",
    "    result = unittest.TestResult()\n",
    "    suite.addTest(TestHorse('test_horse_creation'))\n",
    "    suite.addTest(TestHorse('test_update_horse_stats'))\n",
    "    suite.addTest(TestUser('test_balance_horse_id'))\n",
    "    suite.addTest(TestUser('test_take_bet'))\n",
    "    runner = unittest.TextTestRunner()\n",
    "    print(runner.run(suite))\n",
    "\n",
    "horse_suite()"
   ]
  }
 ],
 "metadata": {
  "kernelspec": {
   "display_name": "Python 3 (ipykernel)",
   "language": "python",
   "name": "python3"
  },
  "language_info": {
   "codemirror_mode": {
    "name": "ipython",
    "version": 3
   },
   "file_extension": ".py",
   "mimetype": "text/x-python",
   "name": "python",
   "nbconvert_exporter": "python",
   "pygments_lexer": "ipython3",
   "version": "3.12.2"
  }
 },
 "nbformat": 4,
 "nbformat_minor": 5
}
